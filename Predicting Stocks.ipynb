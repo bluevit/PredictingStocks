{
 "cells": [
  {
   "cell_type": "markdown",
   "metadata": {},
   "source": [
    "---\n",
    "\n",
    "<h3 align=\"center\">PROJECT REPORT<h3/>\n",
    "\n",
    "\n",
    "<div style=\"text-align:center\">\n",
    "    <img src=\"https://i.ibb.co/wgqn5Rc/logo.png\" alt=\"Logo\" style=\"width:200px;\"/>\n",
    "</div>\n",
    "\n",
    "\n",
    "\n",
    "\n",
    "<h4 align=\"center\">Subject: Database Systems<h4/>\n",
    "\n",
    "\n",
    "<h5 align=\"center\">By<h5/>\n",
    "<h5 align=\"center\">Muhammad Raza<h5/>\n",
    "<h5 align=\"center\">2207-2021/BSCS-5A/FALL-23<h5/>\n",
    "<h5 align=\"center\">Faculty of Science and Technology, Hamdard University, Karachi<h5/>\n",
    "\n",
    "\n",
    "\n",
    "\n"
   ]
  },
  {
   "cell_type": "markdown",
   "metadata": {},
   "source": [
    "---\n",
    "\n",
    "## Predicting Stocks\n",
    "\n",
    "## Using Database Management System and Machine Learning\n",
    "\n",
    "**Problem Statement: Stock Market Analysis Tool**\n",
    "\n",
    "*Background:*\n",
    "\n",
    "In the dynamic and complex landscape of financial markets, there is a need for a comprehensive and user-friendly tool that empowers users to analyze and predict stock market trends. This tool should seamlessly connect to a database containing historical stock price data, perform various analyses, and provide insights into future price movements.\n",
    "\n",
    "*Problem Description:*\n",
    "\n",
    "The objective is to develop a Python-based stock market analysis tool that interfaces with a SQL Server database containing historical stock price data. The tool should offer the following functionalities:\n",
    "\n",
    "1. **Data Retrieval:**\n",
    "   - Connect to the specified SQL Server database.\n",
    "   - Retrieve the last update date for each stock symbol and summary data from predefined views.\n",
    "\n",
    "2. **Prediction Module:**\n",
    "   - Implement a prediction module using linear regression.\n",
    "   - Allow users to input a stock symbol and predict the next day's stock prices.\n",
    "   - Display the predicted values and generate a line chart comparing historical and predicted close prices.\n",
    "\n",
    "3. **Seasonal Analysis:**\n",
    "   - Implement a function for seasonal analysis.\n",
    "   - Allow users to input a stock symbol and analyze the average close prices for each month of the year.\n",
    "\n",
    "4. **Trading Volume Analysis:**\n",
    "   - Implement a function for trading volume analysis.\n",
    "   - Allow users to input a stock symbol and analyze the date and trading volume trends.\n",
    "\n",
    "5. **User Interface:**\n",
    "   - Design a user-friendly console-based menu using PrettyTable.\n",
    "   - Provide options for users to choose among data retrieval, prediction, seasonal analysis, and trading volume analysis.\n",
    "\n",
    "6. **Database Interaction:**\n",
    "   - Efficiently interact with the database to insert predicted values and update stock price data.\n",
    "\n",
    "*Constraints:*\n",
    "\n",
    "**The tool is developed in Python and utilize libraries such as pandas, scikit-learn, pyodbc, matplotlib, and PrettyTable. The database schema, views and indexes are predefined.**\n",
    "\n",
    "---\n",
    "Below is the flow of overall program"
   ]
  },
  {
   "cell_type": "markdown",
   "metadata": {},
   "source": [
    "<a href=\"https://gifyu.com/image/S0B1Q\">\n",
    "  <img src=\"https://s13.gifyu.com/images/S0B1Q.gif\" alt=\"a\" border=\"0\" width=\"600\" height=\"350\" />\n",
    "</a>\n"
   ]
  },
  {
   "cell_type": "markdown",
   "metadata": {},
   "source": [
    "---\n",
    "\n",
    "**Normalization of Table into Normalized Form**\n",
    "\n",
    "The number of total required attributes is 22 which is then normalized using normalization technique, results in reducing redundency and anomalies"
   ]
  },
  {
   "cell_type": "markdown",
   "metadata": {},
   "source": [
    "<a href=\"https://imgbb.com/\"><img src=\"https://i.ibb.co/rwPt4CM/UNNORMALIZED.png\" alt=\"UNNORMALIZED\" border=\"0\"></a>"
   ]
  },
  {
   "cell_type": "markdown",
   "metadata": {},
   "source": [
    "The provided table has been systematically transformed into a normalized form,  namely `TBL_COMPANY`, `TBL_STOCKPRICE`, `TBL_DIVIDENDS`, `PREDICTIONS`, and `PREDICTIONS_AUDIT`, to enhance data integrity and reduce redundancy. The normalization process follows recognized principles of database normalization, primarily aiming to achieve First Normal Form (1NF) and Second Normal Form (2NF):\n"
   ]
  },
  {
   "cell_type": "markdown",
   "metadata": {},
   "source": [
    "<a href=\"https://ibb.co/Yhzgf0k\"><img src=\"https://i.ibb.co/w49tpcW/TABLES.png\" alt=\"TABLES\" border=\"0\"></a>\n"
   ]
  },
  {
   "cell_type": "markdown",
   "metadata": {},
   "source": [
    "The normalization process has systematically organized the provided tables, promoting data consistency, reducing redundancy, and enhancing overall database structure.\n",
    "\n"
   ]
  },
  {
   "cell_type": "markdown",
   "metadata": {},
   "source": [
    "<a href=\"https://ibb.co/WWV76RW\"><img src=\"https://i.ibb.co/8DYG0QD/ERD.png\" alt=\"ERD\" border=\"0\"></a>"
   ]
  },
  {
   "cell_type": "markdown",
   "metadata": {},
   "source": [
    "---\n",
    "**Deciding Model for Machine Learning**\n",
    "\n",
    "Linear regression was chosen as the modeling technique for this analysis based on the observed linearity in the dataset. The inherent assumption behind linear regression is that the relationship between the independent variable(s) and the dependent variable is linear. In the context of this specific dataset, a visual examination or preliminary analysis indicates a pattern that aligns well with a linear trend.\n",
    "\n"
   ]
  },
  {
   "cell_type": "markdown",
   "metadata": {},
   "source": [
    "<a href=\"https://ibb.co/VNQn1wt\"><img src=\"https://i.ibb.co/26sV9Zy/output.png\" alt=\"output\" border=\"0\"></a>"
   ]
  },
  {
   "cell_type": "markdown",
   "metadata": {},
   "source": [
    "Below is the result for the execution of Machine Learning Model"
   ]
  },
  {
   "cell_type": "markdown",
   "metadata": {},
   "source": [
    "<a href=\"https://ibb.co/znKS7vF\"><img src=\"https://i.ibb.co/X2mz3RD/Figure-1.png\" alt=\"Figure-1\" border=\"0\"></a>"
   ]
  },
  {
   "cell_type": "markdown",
   "metadata": {},
   "source": [
    "**Accuracy of Model**\n",
    "\n",
    "Evaluating the accuracy of a prediction model in the context of the stock market is paramount for investors, financial analysts, and algorithmic traders. The stock market is inherently dynamic and influenced by numerous factors, making accurate predictions a valuable asset for effective investment strategies.\n",
    "\n",
    "A high level of accuracy in predicting stock prices enables investors to make well-informed decisions, whether it's buying, selling, or holding assets. Accurate predictions empower traders to capitalize on market trends, identify potential risks, and optimize their portfolios. This, in turn, can lead to increased profitability and a competitive edge in the financial markets.\n",
    "\n",
    "Mean Squared Error (MSE) is a critical metric in assessing the performance and accuracy of prediction models, particularly in the realm of data science and machine learning. MSE provides a quantitative measure of the average squared difference between the predicted and actual values. This metric holds significant importance for various applications, including stock market prediction models.\n",
    "\n",
    "In the context of stock market predictions, MSE serves as a valuable tool for evaluating the effectiveness of forecasting algorithms. The calculation involves taking the average of the squared differences between the predicted and observed stock prices over a specified period. A lower MSE indicates that the predictions closely align with the actual market movements. A high MSE, on the other hand, signals that the model's predictions deviate significantly from the actual stock prices, highlighting areas for improvement."
   ]
  },
  {
   "cell_type": "markdown",
   "metadata": {},
   "source": [
    "<a href=\"https://imgbb.com/\"><img src=\"https://i.ibb.co/QCpYtgd/1.jpg\" alt=\"1\" border=\"0\"></a>"
   ]
  },
  {
   "cell_type": "markdown",
   "metadata": {},
   "source": [
    "Data from YFinance tells us that the actual value for closing price for Apple Inc. (AAPL) is 189.95 USD on November 30, 2023, on the other hand, our linear regression model predicts the value of 189.37 USD, quite close! this is because the of some factors which effect the stock value of a company (this program exclude all such factors and predicts on the basis of data provided).\n",
    "\n",
    "---\n",
    "---"
   ]
  },
  {
   "cell_type": "markdown",
   "metadata": {},
   "source": []
  }
 ],
 "metadata": {
  "kernelspec": {
   "display_name": "Python 3",
   "language": "python",
   "name": "python3"
  },
  "language_info": {
   "codemirror_mode": {
    "name": "ipython",
    "version": 3
   },
   "file_extension": ".py",
   "mimetype": "text/x-python",
   "name": "python",
   "nbconvert_exporter": "python",
   "pygments_lexer": "ipython3",
   "version": "3.11.7"
  }
 },
 "nbformat": 4,
 "nbformat_minor": 2
}
